{
  "nbformat": 4,
  "nbformat_minor": 0,
  "metadata": {
    "colab": {
      "name": "Dashplotly.ipynb",
      "provenance": [],
      "authorship_tag": "ABX9TyNH8iaBmI0khE9pWsqMQPDx",
      "include_colab_link": true
    },
    "kernelspec": {
      "name": "python3",
      "display_name": "Python 3"
    },
    "language_info": {
      "name": "python"
    }
  },
  "cells": [
    {
      "cell_type": "markdown",
      "metadata": {
        "id": "view-in-github",
        "colab_type": "text"
      },
      "source": [
        "<a href=\"https://colab.research.google.com/github/Janhaviim/Janhaviim/blob/main/Dashplotly.ipynb\" target=\"_parent\"><img src=\"https://colab.research.google.com/assets/colab-badge.svg\" alt=\"Open In Colab\"/></a>"
      ]
    },
    {
      "cell_type": "code",
      "execution_count": 7,
      "metadata": {
        "id": "psxnc-UFJkb0"
      },
      "outputs": [],
      "source": [
        "import dash\n",
        "from dash.dependencies import Output, Input\n",
        "import dash_core_components as dcc\n",
        "import dash_html_components as html\n",
        "import plotly\n",
        "import random\n",
        "import plotly.graph_objs as go\n",
        "from collections import deque\n",
        "\n",
        "X = deque(maxlen = 20)\n",
        "X.append(1)\n",
        "\n",
        "Y = deque(maxlen = 20)\n",
        "Y.append(1)\n",
        "\n",
        "app = dash.Dash(__name__)\n",
        "\n",
        "app.layout = html.Div(\n",
        "\t[\n",
        "\t\tdcc.Graph(id = 'live-graph', animate = True),\n",
        "\t\tdcc.Interval(\n",
        "\t\t\tid = 'graph-update',\n",
        "\t\t\tinterval = 1000,\n",
        "\t\t\tn_intervals = 0\n",
        "\t\t),\n",
        "\t]\n",
        ")\n",
        "\n",
        "@app.callback(\n",
        "\tOutput('live-graph', 'figure'),\n",
        "\t[ Input('graph-update', 'n_intervals') ]\n",
        ")\n",
        "\n",
        "def update_graph_scatter(n):\n",
        "\tX.append(X[-1]+1)\n",
        "\tY.append(Y[-1]+Y[-1] * random.uniform(-0.1,0.1))\n",
        "\n",
        "\tdata = plotly.graph_objs.Scatter(\n",
        "\t\t\tx=list(X),\n",
        "\t\t\ty=list(Y),\n",
        "\t\t\tname='Scatter',\n",
        "\t\t\tmode= 'lines+markers'\n",
        "\t)\n",
        "\n",
        "\treturn {'data': [data],\n",
        "\t\t\t'layout' : go.Layout(xaxis=dict(range=[min(X),max(X)]),yaxis = dict(range = [min(Y),max(Y)]),)}\n",
        "\n",
        "if __name__ == '__main__':\n",
        "\tapp.run_server()\n",
        "\n",
        "\n",
        "\n"
      ]
    }
  ]
}