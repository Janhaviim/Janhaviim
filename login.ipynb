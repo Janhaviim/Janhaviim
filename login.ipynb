{
  "nbformat": 4,
  "nbformat_minor": 0,
  "metadata": {
    "colab": {
      "name": "login.ipynb",
      "provenance": [],
      "collapsed_sections": [],
      "authorship_tag": "ABX9TyNziuiUwvx3Q77Vs/TUMMd2",
      "include_colab_link": true
    },
    "kernelspec": {
      "name": "python3",
      "display_name": "Python 3"
    },
    "language_info": {
      "name": "python"
    }
  },
  "cells": [
    {
      "cell_type": "markdown",
      "metadata": {
        "id": "view-in-github",
        "colab_type": "text"
      },
      "source": [
        "<a href=\"https://colab.research.google.com/github/Janhaviim/Janhaviim/blob/main/login.ipynb\" target=\"_parent\"><img src=\"https://colab.research.google.com/assets/colab-badge.svg\" alt=\"Open In Colab\"/></a>"
      ]
    },
    {
      "cell_type": "code",
      "metadata": {
        "id": "Y7F7b7c3O0GJ"
      },
      "source": [
        "from tkinter import *\n",
        "import tkinter.messagebox as mb\n",
        "\n",
        "class login(Frame):\n",
        "  def _init_(self,master):\n",
        "    super()._init_(master)\n",
        "    self.label_username=Label(self,text=\"Username\",font=(\"Times new Roman\",15))\n",
        "    self.label_password=Label(self,text=\"password\",font=(\"Times new Roman\",15))\n",
        "\n",
        "    self.entry_username=Entry(self)\n",
        "    self.entry_password=Entry(self)\n",
        "\n",
        "    self.label_username.grid(row=0,sticky=E)\n",
        "    self.label_username.grid(row=0,column=1)\n",
        "    self.entry_username.grid(row=1,column=1)\n",
        "\n",
        "    self.button=Button(self,text=\"login\",command=self.login)\n",
        "    self.button.grid(columnspan=2)w=1,sticky=E)\n",
        "    self.entry_username.grid(ro\n",
        "\n",
        "    self.pack()\n",
        "\n",
        "    def login(self):\n",
        "      username=self.entry_username.get()\n",
        "      password=self.entry_password.get()\n",
        "\n",
        "      if(username==\"Janhavi@gmail.com\" and passowrd==\"Jan@1234\"):\n",
        "        mb.showinfo(\"login\",\"Login Sucessfull\")\n",
        "\n",
        "      else:\n",
        "        mb.showinfor(\"login\",\"Login Unsucessfull\")\n",
        "\n",
        "\n",
        "\n",
        "          "
      ],
      "execution_count": null,
      "outputs": []
    }
  ]
}